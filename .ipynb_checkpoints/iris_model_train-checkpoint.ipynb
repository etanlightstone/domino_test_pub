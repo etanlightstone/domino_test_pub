{
 "cells": [
  {
   "cell_type": "code",
   "execution_count": null,
   "metadata": {},
   "outputs": [],
   "source": [
    "\n",
    "import numpy as np\n",
    "import pandas as pd\n",
    "\n",
    "# Load your data here, and set the iris_df variable to a pandas dataframe of that data.\n",
    "\n",
    "iris_df.head()\n",
    "\n",
    "# I will likely pollute the data a bit and have them do some kind of data cleaning, right now its clean though\n",
    "# I also want to introduce a \"categorical\" feature like color, just to force them to \n",
    "# encode it / do a tiny bit of data transforming\n",
    "iris_df.isnull()\n",
    "iris_df = iris_df.dropna()\n",
    "# iris_df = pd.get_dummies(iris_df, columns=[\"color\"]) # this isn't needed, I added a color text col just to test data cleaning use cases earlier\n",
    "\n",
    "feature_cols = ['SepalLengthCm', 'SepalWidthCm', 'PetalLengthCm','PetalWidthCm']\n",
    "\n",
    "\n",
    "\n",
    "x = iris_df.loc[:, feature_cols]\n",
    "y = iris_df.Species\n",
    "\n",
    "x.head()"
   ]
  },
  {
   "cell_type": "code",
   "execution_count": null,
   "metadata": {},
   "outputs": [],
   "source": [
    "!pip install scikit-optimize"
   ]
  },
  {
   "cell_type": "code",
   "execution_count": null,
   "metadata": {},
   "outputs": [],
   "source": [
    "from sklearn.model_selection import GridSearchCV,train_test_split\n",
    "\n",
    "# Splitting a test and training set.\n",
    "x_train, x_test, y_train, y_test = train_test_split(x,y,test_size=.5)\n",
    "\n",
    "from sklearn import tree\n",
    "\n",
    "classifier=tree.DecisionTreeClassifier()\n",
    "\n",
    "# Training the model.\n",
    "classifier.fit(x_train,y_train)\n",
    "\n",
    "# Make predictions with the test data set.\n",
    "predictions=classifier.predict(x_test)\n",
    "\n",
    "from sklearn.metrics import accuracy_score\n",
    "\n",
    "# Show the accuracy\n",
    "print(accuracy_score(y_test,predictions))"
   ]
  },
  {
   "cell_type": "code",
   "execution_count": null,
   "metadata": {},
   "outputs": [],
   "source": [
    "#import pickle\n",
    "\n",
    "# Save a serialized model \"pickle\" file here\n",
    "\n",
    "\n"
   ]
  }
 ],
 "metadata": {
  "kernelspec": {
   "display_name": "Python 3 (ipykernel)",
   "language": "python",
   "name": "python3"
  },
  "language_info": {
   "codemirror_mode": {
    "name": "ipython",
    "version": 3
   },
   "file_extension": ".py",
   "mimetype": "text/x-python",
   "name": "python",
   "nbconvert_exporter": "python",
   "pygments_lexer": "ipython3",
   "version": "3.8.12"
  }
 },
 "nbformat": 4,
 "nbformat_minor": 4
}
